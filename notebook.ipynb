{
 "cells": [
  {
   "cell_type": "markdown",
   "metadata": {},
   "source": [
    "<h1>Preliminar setup</h1>"
   ]
  },
  {
   "cell_type": "code",
   "execution_count": null,
   "metadata": {},
   "outputs": [],
   "source": [
    "import yfinance as yf\n",
    "import ast \n",
    "import pandas as pd\n",
    "from datetime import datetime\n",
    "import os\n",
    "import numpy as np\n",
    "import matplotlib.pyplot as plt\n",
    "\n",
    "european = ['^SPX', '^NDX', '^RUT']\n",
    "#european = ['^NDX']\n",
    "\n",
    "american = ['NVDA', 'JNJ', 'XOM']\n",
    "\n",
    "#Parametric string\n",
    "opt_filename = './data/options_daily/raw/{date_dir}/{date_file}_{title}_{type}.csv'\n",
    "\n",
    "opt_filename_proc = './data/options_daily/proc/{date_dir}/{date_file}_{title}_{type}.csv'\n",
    "\n",
    "title_filename = './data/title/{title}.csv'\n",
    "\n",
    "#List of dates day by day from 2024_11_12 to 2024_11_29 \n",
    "dates = pd.date_range(start='2024-11-11', end='2024-11-29').strftime('%Y_%m_%d').tolist()"
   ]
  },
  {
   "cell_type": "markdown",
   "metadata": {},
   "source": [
    "<h1>Scrape title data</h1>"
   ]
  },
  {
   "cell_type": "code",
   "execution_count": null,
   "metadata": {},
   "outputs": [],
   "source": [
    "def scrape_title_data(title, start_date, end_date):\n",
    "    stock = yf.Ticker(title)\n",
    "    historical_data = stock.history(start=start_date, end=end_date)\n",
    "    historical_data.to_csv(title_filename.format(title=title))"
   ]
  },
  {
   "cell_type": "code",
   "execution_count": null,
   "metadata": {},
   "outputs": [],
   "source": [
    "start_date = \"2004-11-29\"\n",
    "end_date = \"2024-11-29\"\n",
    "\n",
    "for title in american + european:\n",
    "    print(f\"Scraping {title}\")\n",
    "    scrape_title_data(title, start_date, end_date)\n",
    "print(\"Done\")"
   ]
  },
  {
   "cell_type": "markdown",
   "metadata": {},
   "source": [
    "<h1>Scrape Options Data</h1>"
   ]
  },
  {
   "cell_type": "code",
   "execution_count": null,
   "metadata": {},
   "outputs": [],
   "source": [
    "def scrape_options_data(options, today):\n",
    "    \n",
    "    for idx in options:\n",
    "        spx = yf.Ticker(idx)\n",
    "\n",
    "        # get option chain for specific expiration\n",
    "        try:\n",
    "            opt = spx.option_chain('0000-00-00')\n",
    "        except Exception as e:\n",
    "            list_string = \"[\" + str(e).split('[')[1]\n",
    "            list_string = list_string.replace(\" \", \"\")\n",
    "            list_string = list_string.replace(\",\", \"','\")\n",
    "            list_string = list_string.replace(\"[\", \"['\")\n",
    "            list_string = list_string.replace(\"]\", \"']\")\n",
    "            option_dates = ast.literal_eval(list_string)\n",
    "        \n",
    "        all_calls = pd.DataFrame()\n",
    "        all_puts = pd.DataFrame()\n",
    "        \n",
    "        # Define the cutoff date\n",
    "        cutoff_date = datetime(2024, 12, 31)\n",
    "        \n",
    "        for date in option_dates:\n",
    "            # Convert date to a datetime object if it's not already one\n",
    "            if isinstance(date, str):\n",
    "                date_obj = datetime.strptime(date, '%Y-%m-%d')\n",
    "            \n",
    "            if date_obj < cutoff_date:\n",
    "                opt = spx.option_chain(date)\n",
    "                \n",
    "                #Process calls\n",
    "                call = opt.calls\n",
    "                call['expiration_date'] = date #add expiration date to the dataframe\n",
    "                all_calls = pd.concat([all_calls, call], ignore_index=True)\n",
    "                #all_calls = all_calls[all_calls.isna().sum(axis=1) <= 1]\n",
    "                #all_calls = all_calls.dropna()\n",
    "                \n",
    "                #Process puts\n",
    "                put = opt.puts\n",
    "                put['expiration_date'] = date #add expiration_date to the dataframe\n",
    "                all_puts = pd.concat([all_puts, put], ignore_index=True)\n",
    "                #all_puts = all_puts[all_puts.isna().sum(axis=1) <= 1]\n",
    "                #all_puts = all_puts.dropna()\n",
    "        \n",
    "        #If doesn't exist, create a data folder\n",
    "        all_calls.to_csv('./data/options_daily/raw/' + today + '/' + today + '_' + idx + '_calls.csv', index=False)\n",
    "        all_puts.to_csv('./data/options_daily/raw/' + today + '/' + today + '_' + idx + '_puts.csv', index=False)"
   ]
  },
  {
   "cell_type": "code",
   "execution_count": null,
   "metadata": {},
   "outputs": [],
   "source": [
    "#Get today date in format yyyy_mm_dd\n",
    "today = pd.Timestamp.today().strftime('%Y_%m_%d')\n",
    "\n",
    "try:\n",
    "    os.makedirs('./data/options_daily/raw/' + today)\n",
    "except Exception as e:\n",
    "    print('Data already written for today')\n",
    "    exit()\n",
    "\n",
    "print('Scraping European options data')\n",
    "scrape_options_data(european, today)\n",
    "\n",
    "print('Scraping American options data')\n",
    "scrape_options_data(american, today)\n",
    "    \n",
    "print('Scraping completed')"
   ]
  },
  {
   "cell_type": "markdown",
   "metadata": {},
   "source": [
    "<h1>Take only data until 29/11/2024 </h1>"
   ]
  },
  {
   "cell_type": "code",
   "execution_count": null,
   "metadata": {},
   "outputs": [],
   "source": [
    "#For all datasets take only the rows with expiration_date until 2024-11-29\n",
    "for date in dates:\n",
    "    for idx in european + american:\n",
    "        for option_type in ['calls', 'puts']:\n",
    "            df = pd.read_csv(opt_filename.format(date_dir=date, date_file=date, title=idx, type=option_type))\n",
    "            df['expiration_date'] = pd.to_datetime(df['expiration_date'])\n",
    "            df = df[df['expiration_date'] <= '2024-11-29']\n",
    "            df.to_csv(opt_filename_proc.format(date_dir=date, date_file=date, title=idx, type=option_type), index=False)\n",
    "\n",
    "print('Done')\n"
   ]
  },
  {
   "cell_type": "markdown",
   "metadata": {},
   "source": [
    "<h1>Take for every day only the expiration dates contained in all files (Intersection)</h1>"
   ]
  },
  {
   "cell_type": "code",
   "execution_count": null,
   "metadata": {},
   "outputs": [],
   "source": [
    "from functools import reduce\n",
    "\n",
    "dates_lists = []\n",
    "\n",
    "#Build a list made of a list for every day sampled, for each day build a list, for each title, containing all the expiration dates for that title\n",
    "for date in dates:\n",
    "    day_dates_lists = []\n",
    "    for idx in european + american:\n",
    "        option_dates_list = []\n",
    "        for option_type in ['calls', 'puts']:\n",
    "            df = pd.read_csv(opt_filename_proc.format(date_dir=date, date_file=date, title=idx, type=option_type))\n",
    "            option_dates_list.extend(df['expiration_date'].unique())\n",
    "        day_dates_lists.append(set(option_dates_list)) #Set to remove duplicates from the add of the same dates in put and call dataset\n",
    "            \n",
    "    dates_lists.append(day_dates_lists)\n",
    "\n",
    "#Note that there is no 2024-11-28 cause it's Thanksgiving\n",
    "#print(len(dates_lists)) #Expected 19 as we have sampled 19 days\n",
    "#print(len(dates_lists[0])) #Expected 6 as we have 6 titles\n",
    "#print(len(dates_lists[0][0])) #Expected X\n",
    "\n",
    "#Now take the intersection of the expiration dates for each title in each day\n",
    "intersection_lists = []\n",
    "for day_lists in dates_lists:\n",
    "    intersection = list(reduce(lambda x, y: set(x) & set(y), day_lists))\n",
    "    print(len(intersection))\n",
    "    intersection_lists.append(intersection)\n",
    "print(len(intersection_lists)) #Expected 19 as we have sampled 19 days\n",
    "print(intersection_lists)\n",
    "print('Done')"
   ]
  },
  {
   "cell_type": "markdown",
   "metadata": {},
   "source": [
    "<h1>Take only data in intersection list of erxpirations</h1>"
   ]
  },
  {
   "cell_type": "code",
   "execution_count": null,
   "metadata": {},
   "outputs": [],
   "source": [
    "#For all datasets take only the dates in the instersection list\n",
    "for i in range(0, len(dates)):\n",
    "    for idx in european + american:\n",
    "        for option_type in ['calls', 'puts']:\n",
    "            df = pd.read_csv(opt_filename_proc.format(date_dir=dates[i], date_file=dates[i], title=idx, type=option_type))\n",
    "            df = df[df['expiration_date'].isin(intersection_lists[i])]\n",
    "            df.to_csv(opt_filename_proc.format(date_dir=dates[i], date_file=dates[i], title=idx, type=option_type), index=False)\n",
    "\n",
    "print('Done')"
   ]
  },
  {
   "cell_type": "markdown",
   "metadata": {},
   "source": [
    "<h1>Take for each day only the put and calls with the same last trade</h1>"
   ]
  },
  {
   "cell_type": "code",
   "execution_count": null,
   "metadata": {},
   "outputs": [],
   "source": []
  },
  {
   "cell_type": "markdown",
   "metadata": {},
   "source": [
    "<h1>Calcolo del tasso privo di rischio</h1>"
   ]
  },
  {
   "cell_type": "code",
   "execution_count": null,
   "metadata": {},
   "outputs": [],
   "source": [
    "#Divido i dataset per anno\n",
    "\n",
    "dataset_2002_2023 = './data/bond/daily-treasury-rates_2002-2023.csv'\n",
    "dataset_2024 = './data/bond/daily-treasury-rates_2024.csv'\n",
    "\n",
    "#From the dataset 2002_2003 create a dataset for each year and save it in the same folder\n",
    "df = pd.read_csv(dataset_2002_2023)\n",
    "df['Date'] = pd.to_datetime(df['Date'])\n",
    "df['year'] = df['Date'].dt.year\n",
    "#Create a dataset for each year fill the empty values with NaN\n",
    "for year in range(2002, 2024):\n",
    "    df_year = df[df['year'] == year]\n",
    "    #remove the column year\n",
    "    df_year = df_year.drop(columns=['year'])\n",
    "    df_year.to_csv(f'./data/bond/daily-treasury-rates_{year}.csv', index=False, na_rep='NaN')\n",
    "    "
   ]
  },
  {
   "cell_type": "code",
   "execution_count": null,
   "metadata": {},
   "outputs": [],
   "source": [
    "#Calcolo la media dei rendimenti\n",
    "\n",
    "tb_dates = ['2002', '2003', '2004', '2005', '2006', '2007', '2008', '2009', '2010', '2011', '2012', '2013', '2014', '2015', '2016', '2017', '2018', '2019', '2020', '2021', '2022', '2023', '2024']\n",
    "\n",
    "#create a dateset concatenating each year\n",
    "df_all = pd.DataFrame()\n",
    "for date in tb_dates:\n",
    "    df = pd.read_csv(f'./data/bond/daily-treasury-rates_{date}.csv')\n",
    "    df_all = pd.concat([df_all, df], ignore_index=True)\n",
    "\n",
    "#drop date column\n",
    "df_all = df_all.drop(columns=['Date'])\n",
    "\n",
    "#Take mean skipping nan values\n",
    "means = df_all.mean(skipna=True)\n",
    "\n",
    "df_means = pd.DataFrame(means).T\n",
    "\n",
    "#output to csv\n",
    "df_means.to_csv('./data/bond/daily-treasury-rates_means.csv', index=False)"
   ]
  },
  {
   "cell_type": "code",
   "execution_count": null,
   "metadata": {},
   "outputs": [],
   "source": []
  }
 ],
 "metadata": {
  "kernelspec": {
   "display_name": ".venv",
   "language": "python",
   "name": "python3"
  },
  "language_info": {
   "codemirror_mode": {
    "name": "ipython",
    "version": 3
   },
   "file_extension": ".py",
   "mimetype": "text/x-python",
   "name": "python",
   "nbconvert_exporter": "python",
   "pygments_lexer": "ipython3",
   "version": "3.13.0"
  }
 },
 "nbformat": 4,
 "nbformat_minor": 2
}
